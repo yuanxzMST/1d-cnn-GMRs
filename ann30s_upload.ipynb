{
 "metadata": {
  "language_info": {
   "codemirror_mode": {
    "name": "ipython",
    "version": 3
   },
   "file_extension": ".py",
   "mimetype": "text/x-python",
   "name": "python",
   "nbconvert_exporter": "python",
   "pygments_lexer": "ipython3",
   "version": "3.6.13"
  },
  "orig_nbformat": 2,
  "kernelspec": {
   "name": "python3",
   "display_name": "Python 3.6.13 64-bit ('py36': conda)"
  },
  "interpreter": {
   "hash": "945f772f9badcbfc4a1df3d6527578ec95a0effa6aa5f833d2a8223f80199175"
  }
 },
 "nbformat": 4,
 "nbformat_minor": 2,
 "cells": [
  {
   "cell_type": "code",
   "execution_count": 1,
   "source": [
    "import os\n",
    "import pickle\n",
    "import tensorflow as tf\n",
    "import keras\n",
    "from keras import initializers\n",
    "from keras.layers import Input, Dense, Conv1D, MaxPooling1D, Dropout\n",
    "from keras.layers import BatchNormalization\n",
    "from keras.models import Model\n",
    "from keras.models import model_from_json\n",
    "from keras.callbacks import ModelCheckpoint\n",
    "import numpy as np\n",
    "import scipy.io as sio\n",
    "import matplotlib.pyplot as plt\n",
    "import pandas as pd\n",
    "import sys\n",
    "from keras import backend as K\n",
    "from tensorflow.python.keras.backend import set_session\n",
    "from time import time\n",
    "from sklearn.metrics import classification_report, confusion_matrix"
   ],
   "outputs": [],
   "metadata": {}
  },
  {
   "cell_type": "code",
   "execution_count": 2,
   "source": [
    "# disable GPU\n",
    "os.environ[\"CUDA_DEVICE_ORDER\"] = \"PIC_BUS_ID\"\n",
    "os.environ[\"CUDA_VISIBLE_DEVICES\"] = \"-1\""
   ],
   "outputs": [],
   "metadata": {}
  },
  {
   "cell_type": "code",
   "execution_count": null,
   "source": [
    "# config = tf.compat.v1.ConfigProto()\n",
    "# config.gpu_options.allow_growth = True # dynamically grow the memory used on the GPU\n",
    "# config.log_device_placement = True \t   # to log device placment (on which device the operation ran)\n",
    "# sess = tf.compat.v1.Session(config=config)\n",
    "# set_session(sess)\t# set this Tensorflow session as the default session for keras"
   ],
   "outputs": [],
   "metadata": {}
  },
  {
   "cell_type": "code",
   "execution_count": 3,
   "source": [
    "def acc30(records,duration=30,sampling=0.02):\n",
    "    rec_num,length = records.shape\n",
    "    length = int(duration/sampling)\n",
    "    outrecs = np.zeros((rec_num,length),dtype=np.float32)\n",
    "    for i in range(rec_num):\n",
    "        irec = records[i,:]\n",
    "        pga_index = np.argmax(abs(irec))\n",
    "        if pga_index < length/2:\n",
    "            rec = irec[:length]\n",
    "        else:\n",
    "            rec = irec[(pga_index-int(length/2)):(pga_index+int(length/2)+(length%2 == 1))]\n",
    "        outrecs[i,:] = rec\n",
    "    return np.float32(outrecs)"
   ],
   "outputs": [],
   "metadata": {}
  },
  {
   "cell_type": "code",
   "execution_count": 4,
   "source": [
    "with open(\"data.pickle\",\"rb\") as f:\n",
    "    tr_data,ts_data = pickle.load(f)\n",
    "\n",
    "x_train = acc30(tr_data[:,1:])\n",
    "x_test = acc30(ts_data[:,1:])\n",
    "y_train = tr_data[:,0].astype(int)-1\n",
    "y_test = ts_data[:,0].astype(int)-1"
   ],
   "outputs": [],
   "metadata": {}
  },
  {
   "cell_type": "code",
   "execution_count": null,
   "source": [
    "history=[]\n",
    "final=[]\n",
    "a=np.zeros(100)\n",
    "b=np.zeros(100)\n",
    "\n",
    "x = keras.layers.Input(x_train.shape[1:])\n",
    "# y= keras.layers.Dropout(0.1)(x)\n",
    "# y = keras.layers.Dense(5000, activation='relu')(y)\n",
    "# y = keras.layers.Dropout(0.2)(y)\n",
    "y = keras.layers.Dense(200, activation='relu')(x)\n",
    "y = keras.layers.Dropout(0.5)(y)\n",
    "# y = keras.layers.Dense(100, activation = 'relu')(y)\n",
    "# y = keras.layers.Dropout(0.3)(y)\n",
    "y = keras.layers.Dense(64, activation = 'relu')(y)\n",
    "y = keras.layers.Dropout(0.5)(y)\n",
    "out = keras.layers.Dense(3, activation='softmax')(y)\n",
    "\n",
    "optimizer = 'adam'\n",
    "model = Model(x, out)\n",
    "model.compile(optimizer= optimizer,\n",
    "              loss=tf.keras.losses.SparseCategoricalCrossentropy(),\n",
    "              metrics=['accuracy'])\n"
   ],
   "outputs": [],
   "metadata": {}
  },
  {
   "cell_type": "code",
   "execution_count": null,
   "source": [
    "filepath = 'CPU-ann30-best-up-{}.hdf5'.format(optimizer)\n",
    "checkpoint = ModelCheckpoint(filepath, monitor=\"val_loss\",verbose=1,save_best_only=True,mode=\"min\")\n",
    "callbacks_list = [checkpoint]\n",
    "\n",
    "# keras.initializers.he_uniform(seed=None)\n",
    "import time\n",
    "from datetime import timedelta\n",
    "start_time = time.monotonic()\n",
    "history.append(model.fit(x_train, y_train,\n",
    "                epochs=50,\n",
    "                batch_size=32,\n",
    "                shuffle=True,\n",
    "                validation_data=(x_test, y_test),\n",
    "                callbacks=callbacks_list,\n",
    "                verbose=0))\n",
    "end_time = time.monotonic()\n",
    "print(timedelta(seconds=end_time-start_time))\n",
    "\n",
    "scores = model.evaluate(x_test,y_test,verbose=1)\n",
    "print(\"%s: %.2f%%\" %(model.metrics_names[1], scores[1]*100))"
   ],
   "outputs": [],
   "metadata": {}
  },
  {
   "cell_type": "code",
   "execution_count": null,
   "source": [
    "start_time = time.monotonic()\n",
    "scores = model.evaluate(x_test,y_test,verbose=1)\n",
    "print(\"%s: %.2f%%\" %(model.metrics_names[1], scores[1]*100))\n",
    "end_time = time.monotonic()\n",
    "print(timedelta(seconds=end_time-start_time))"
   ],
   "outputs": [],
   "metadata": {}
  },
  {
   "cell_type": "code",
   "execution_count": null,
   "source": [
    "predicts = model.predict(x_test)\n",
    "y_pred = np.argmax(predicts,axis=1)\n",
    "tf.math.confusion_matrix(y_pred,y_test)"
   ],
   "outputs": [],
   "metadata": {}
  },
  {
   "cell_type": "code",
   "execution_count": null,
   "source": [
    "plt.plot(history[0].history['accuracy'])\n",
    "plt.plot(history[0].history['val_accuracy'])\n",
    "\n",
    "plt.title('Model Accuracy against Network Size')\n",
    "plt.ylabel('accuracy')\n",
    "plt.xlabel('epoch')\n",
    "plt.legend(['large_train', 'large_test','medium_train','medium_test','small_train','small_test'], loc='upper left')\n",
    "plt.show()"
   ],
   "outputs": [],
   "metadata": {}
  },
  {
   "cell_type": "code",
   "execution_count": null,
   "source": [
    "plt.plot(history[0].history['loss'])\n",
    "plt.plot(history[0].history['val_loss'])\n",
    "\n",
    "plt.title('Model Accuracy against Network Size')\n",
    "plt.ylabel('loss')\n",
    "plt.xlabel('epoch')\n",
    "plt.legend(['large_train', 'large_test','medium_train','medium_test','small_train','small_test'], loc='upper left')\n",
    "plt.show()"
   ],
   "outputs": [],
   "metadata": {}
  },
  {
   "cell_type": "code",
   "execution_count": null,
   "source": [
    "with open(\"ann30-data-history.pkl\", \"wb\") as f:\n",
    "    pickle.dump([y_pred,history[0].history['accuracy'],history[0].history['val_accuracy'],\n",
    "    history[0].history['loss'],history[0].history['val_loss']],f)"
   ],
   "outputs": [],
   "metadata": {}
  }
 ]
}